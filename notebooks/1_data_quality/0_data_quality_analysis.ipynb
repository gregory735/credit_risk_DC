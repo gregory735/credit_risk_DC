{
 "cells": [
  {
   "cell_type": "code",
   "execution_count": 1,
   "id": "299dfefc-ce63-4f66-8b78-59b82f41617a",
   "metadata": {},
   "outputs": [],
   "source": [
    "import pandas as pd\n",
    "import sqlite3\n",
    "from jinja2 import Environment, FileSystemLoader"
   ]
  },
  {
   "cell_type": "code",
   "execution_count": 4,
   "id": "b709fec8-d3a3-48cf-9652-dcaff19d2b28",
   "metadata": {},
   "outputs": [],
   "source": [
    "# configura o jinja\n",
    "templateLoader = FileSystemLoader(\"../../models/templates/\")\n",
    "environment = Environment(loader=templateLoader)"
   ]
  },
  {
   "cell_type": "code",
   "execution_count": 5,
   "id": "46b51b67-36bf-40e3-9e03-e2b00182945f",
   "metadata": {},
   "outputs": [],
   "source": [
    "# Arquivos de template do jinja\n",
    "FILE_CUSTOMER = environment.get_template(\"customer_data.sql.j2\")\n",
    "FILE_PAYMENT = environment.get_template(\"payment_data.sql.j2\")\n",
    "FILE_MERGE_COSTUMER_PAYMENT = environment.get_template(\"customer_payment_merge.sql.j2\")   "
   ]
  },
  {
   "cell_type": "code",
   "execution_count": 6,
   "id": "b877feeb-e4e3-47a8-8841-3cdd521c1c07",
   "metadata": {},
   "outputs": [],
   "source": [
    "# cria um banco de dados no caminho especificado\n",
    "conn = sqlite3.connect('../../data/DB/credit_risk')\n",
    "cursor = conn.cursor()"
   ]
  },
  {
   "cell_type": "code",
   "execution_count": 7,
   "id": "61352917-ce0d-442e-bfd3-49536af32445",
   "metadata": {},
   "outputs": [
    {
     "data": {
      "text/html": [
       "<div>\n",
       "<style scoped>\n",
       "    .dataframe tbody tr th:only-of-type {\n",
       "        vertical-align: middle;\n",
       "    }\n",
       "\n",
       "    .dataframe tbody tr th {\n",
       "        vertical-align: top;\n",
       "    }\n",
       "\n",
       "    .dataframe thead th {\n",
       "        text-align: right;\n",
       "    }\n",
       "</style>\n",
       "<table border=\"1\" class=\"dataframe\">\n",
       "  <thead>\n",
       "    <tr style=\"text-align: right;\">\n",
       "      <th></th>\n",
       "      <th>label</th>\n",
       "      <th>id</th>\n",
       "      <th>fea_1</th>\n",
       "      <th>fea_2</th>\n",
       "      <th>fea_3</th>\n",
       "      <th>fea_4</th>\n",
       "      <th>fea_5</th>\n",
       "      <th>fea_6</th>\n",
       "      <th>fea_7</th>\n",
       "      <th>fea_8</th>\n",
       "      <th>fea_9</th>\n",
       "      <th>fea_10</th>\n",
       "      <th>fea_11</th>\n",
       "    </tr>\n",
       "  </thead>\n",
       "  <tbody>\n",
       "    <tr>\n",
       "      <th>0</th>\n",
       "      <td>1</td>\n",
       "      <td>54982665</td>\n",
       "      <td>5</td>\n",
       "      <td>1245.5</td>\n",
       "      <td>3</td>\n",
       "      <td>77000.0</td>\n",
       "      <td>2</td>\n",
       "      <td>15</td>\n",
       "      <td>5</td>\n",
       "      <td>109</td>\n",
       "      <td>5</td>\n",
       "      <td>151300</td>\n",
       "      <td>244.948974</td>\n",
       "    </tr>\n",
       "    <tr>\n",
       "      <th>1</th>\n",
       "      <td>0</td>\n",
       "      <td>59004779</td>\n",
       "      <td>4</td>\n",
       "      <td>1277.0</td>\n",
       "      <td>1</td>\n",
       "      <td>113000.0</td>\n",
       "      <td>2</td>\n",
       "      <td>8</td>\n",
       "      <td>-1</td>\n",
       "      <td>100</td>\n",
       "      <td>3</td>\n",
       "      <td>341759</td>\n",
       "      <td>207.173840</td>\n",
       "    </tr>\n",
       "    <tr>\n",
       "      <th>2</th>\n",
       "      <td>0</td>\n",
       "      <td>58990862</td>\n",
       "      <td>7</td>\n",
       "      <td>1298.0</td>\n",
       "      <td>1</td>\n",
       "      <td>110000.0</td>\n",
       "      <td>2</td>\n",
       "      <td>11</td>\n",
       "      <td>-1</td>\n",
       "      <td>101</td>\n",
       "      <td>5</td>\n",
       "      <td>72001</td>\n",
       "      <td>1.000000</td>\n",
       "    </tr>\n",
       "  </tbody>\n",
       "</table>\n",
       "</div>"
      ],
      "text/plain": [
       "   label        id  fea_1   fea_2  fea_3     fea_4  fea_5  fea_6  fea_7  \\\n",
       "0      1  54982665      5  1245.5      3   77000.0      2     15      5   \n",
       "1      0  59004779      4  1277.0      1  113000.0      2      8     -1   \n",
       "2      0  58990862      7  1298.0      1  110000.0      2     11     -1   \n",
       "\n",
       "   fea_8  fea_9  fea_10      fea_11  \n",
       "0    109      5  151300  244.948974  \n",
       "1    100      3  341759  207.173840  \n",
       "2    101      5   72001    1.000000  "
      ]
     },
     "execution_count": 7,
     "metadata": {},
     "output_type": "execute_result"
    }
   ],
   "source": [
    "#carrega template do jinja\n",
    "query_customer = templateEnv.get_template(FILE_CUSTOMER).render()\n",
    "# exibe a tabela de clientes\n",
    "customer = pd.read_sql_query(query_customer, conn)\n",
    "customer.head(3)"
   ]
  },
  {
   "cell_type": "code",
   "execution_count": 8,
   "id": "95af773f-5e30-4ff8-91df-1e38fa34b7f2",
   "metadata": {},
   "outputs": [
    {
     "data": {
      "text/html": [
       "<div>\n",
       "<style scoped>\n",
       "    .dataframe tbody tr th:only-of-type {\n",
       "        vertical-align: middle;\n",
       "    }\n",
       "\n",
       "    .dataframe tbody tr th {\n",
       "        vertical-align: top;\n",
       "    }\n",
       "\n",
       "    .dataframe thead th {\n",
       "        text-align: right;\n",
       "    }\n",
       "</style>\n",
       "<table border=\"1\" class=\"dataframe\">\n",
       "  <thead>\n",
       "    <tr style=\"text-align: right;\">\n",
       "      <th></th>\n",
       "      <th>id</th>\n",
       "      <th>OVD_t1</th>\n",
       "      <th>OVD_t2</th>\n",
       "      <th>OVD_t3</th>\n",
       "      <th>OVD_sum</th>\n",
       "      <th>pay_normal</th>\n",
       "      <th>prod_code</th>\n",
       "      <th>prod_limit</th>\n",
       "      <th>update_date</th>\n",
       "      <th>new_balance</th>\n",
       "      <th>highest_balance</th>\n",
       "      <th>report_date</th>\n",
       "    </tr>\n",
       "  </thead>\n",
       "  <tbody>\n",
       "    <tr>\n",
       "      <th>0</th>\n",
       "      <td>58987402</td>\n",
       "      <td>0</td>\n",
       "      <td>0</td>\n",
       "      <td>0</td>\n",
       "      <td>0</td>\n",
       "      <td>1</td>\n",
       "      <td>10</td>\n",
       "      <td>16500.0</td>\n",
       "      <td>04/12/2016</td>\n",
       "      <td>0.0</td>\n",
       "      <td>NaN</td>\n",
       "      <td>None</td>\n",
       "    </tr>\n",
       "    <tr>\n",
       "      <th>1</th>\n",
       "      <td>58995151</td>\n",
       "      <td>0</td>\n",
       "      <td>0</td>\n",
       "      <td>0</td>\n",
       "      <td>0</td>\n",
       "      <td>1</td>\n",
       "      <td>5</td>\n",
       "      <td>NaN</td>\n",
       "      <td>04/12/2016</td>\n",
       "      <td>588720.0</td>\n",
       "      <td>491100.0</td>\n",
       "      <td>None</td>\n",
       "    </tr>\n",
       "    <tr>\n",
       "      <th>2</th>\n",
       "      <td>58997200</td>\n",
       "      <td>0</td>\n",
       "      <td>0</td>\n",
       "      <td>0</td>\n",
       "      <td>0</td>\n",
       "      <td>2</td>\n",
       "      <td>5</td>\n",
       "      <td>NaN</td>\n",
       "      <td>04/12/2016</td>\n",
       "      <td>840000.0</td>\n",
       "      <td>700500.0</td>\n",
       "      <td>22/04/2016</td>\n",
       "    </tr>\n",
       "  </tbody>\n",
       "</table>\n",
       "</div>"
      ],
      "text/plain": [
       "         id  OVD_t1  OVD_t2  OVD_t3  OVD_sum  pay_normal  prod_code  \\\n",
       "0  58987402       0       0       0        0           1         10   \n",
       "1  58995151       0       0       0        0           1          5   \n",
       "2  58997200       0       0       0        0           2          5   \n",
       "\n",
       "   prod_limit update_date  new_balance  highest_balance report_date  \n",
       "0     16500.0  04/12/2016          0.0              NaN        None  \n",
       "1         NaN  04/12/2016     588720.0         491100.0        None  \n",
       "2         NaN  04/12/2016     840000.0         700500.0  22/04/2016  "
      ]
     },
     "execution_count": 8,
     "metadata": {},
     "output_type": "execute_result"
    }
   ],
   "source": [
    "#carrega template do jinja\n",
    "query_payment = templateEnv.get_template(FILE_PAYMENT).render()\n",
    "# exibe a tabela de pagamentos\n",
    "payment = pd.read_sql_query(query_payment, conn)\n",
    "payment.head(3)"
   ]
  },
  {
   "cell_type": "code",
   "execution_count": 9,
   "id": "0d371915-f5b6-4d5a-9d1e-af90214ede6a",
   "metadata": {},
   "outputs": [
    {
     "data": {
      "text/html": [
       "<div>\n",
       "<style scoped>\n",
       "    .dataframe tbody tr th:only-of-type {\n",
       "        vertical-align: middle;\n",
       "    }\n",
       "\n",
       "    .dataframe tbody tr th {\n",
       "        vertical-align: top;\n",
       "    }\n",
       "\n",
       "    .dataframe thead th {\n",
       "        text-align: right;\n",
       "    }\n",
       "</style>\n",
       "<table border=\"1\" class=\"dataframe\">\n",
       "  <thead>\n",
       "    <tr style=\"text-align: right;\">\n",
       "      <th></th>\n",
       "      <th>id</th>\n",
       "      <th>OVD_t1</th>\n",
       "      <th>OVD_t2</th>\n",
       "      <th>OVD_t3</th>\n",
       "      <th>OVD_sum</th>\n",
       "      <th>pay_normal</th>\n",
       "      <th>prod_code</th>\n",
       "      <th>prod_limit</th>\n",
       "      <th>update_date</th>\n",
       "      <th>new_balance</th>\n",
       "      <th>...</th>\n",
       "      <th>fea_2</th>\n",
       "      <th>fea_3</th>\n",
       "      <th>fea_4</th>\n",
       "      <th>fea_5</th>\n",
       "      <th>fea_6</th>\n",
       "      <th>fea_7</th>\n",
       "      <th>fea_8</th>\n",
       "      <th>fea_9</th>\n",
       "      <th>fea_10</th>\n",
       "      <th>fea_11</th>\n",
       "    </tr>\n",
       "  </thead>\n",
       "  <tbody>\n",
       "    <tr>\n",
       "      <th>0</th>\n",
       "      <td>58987402</td>\n",
       "      <td>0</td>\n",
       "      <td>0</td>\n",
       "      <td>0</td>\n",
       "      <td>0</td>\n",
       "      <td>1</td>\n",
       "      <td>10</td>\n",
       "      <td>16500.0</td>\n",
       "      <td>04/12/2016</td>\n",
       "      <td>0.0</td>\n",
       "      <td>...</td>\n",
       "      <td>1241.0</td>\n",
       "      <td>3</td>\n",
       "      <td>62000.0</td>\n",
       "      <td>2</td>\n",
       "      <td>15</td>\n",
       "      <td>9</td>\n",
       "      <td>95</td>\n",
       "      <td>4</td>\n",
       "      <td>60023</td>\n",
       "      <td>1.000000</td>\n",
       "    </tr>\n",
       "    <tr>\n",
       "      <th>1</th>\n",
       "      <td>58995151</td>\n",
       "      <td>0</td>\n",
       "      <td>0</td>\n",
       "      <td>0</td>\n",
       "      <td>0</td>\n",
       "      <td>1</td>\n",
       "      <td>5</td>\n",
       "      <td>NaN</td>\n",
       "      <td>04/12/2016</td>\n",
       "      <td>588720.0</td>\n",
       "      <td>...</td>\n",
       "      <td>NaN</td>\n",
       "      <td>2</td>\n",
       "      <td>126000.0</td>\n",
       "      <td>2</td>\n",
       "      <td>11</td>\n",
       "      <td>9</td>\n",
       "      <td>115</td>\n",
       "      <td>4</td>\n",
       "      <td>450028</td>\n",
       "      <td>224.267697</td>\n",
       "    </tr>\n",
       "    <tr>\n",
       "      <th>2</th>\n",
       "      <td>58997200</td>\n",
       "      <td>0</td>\n",
       "      <td>0</td>\n",
       "      <td>0</td>\n",
       "      <td>0</td>\n",
       "      <td>2</td>\n",
       "      <td>5</td>\n",
       "      <td>NaN</td>\n",
       "      <td>04/12/2016</td>\n",
       "      <td>840000.0</td>\n",
       "      <td>...</td>\n",
       "      <td>1376.0</td>\n",
       "      <td>1</td>\n",
       "      <td>150000.0</td>\n",
       "      <td>2</td>\n",
       "      <td>11</td>\n",
       "      <td>-1</td>\n",
       "      <td>110</td>\n",
       "      <td>4</td>\n",
       "      <td>60000</td>\n",
       "      <td>219.248717</td>\n",
       "    </tr>\n",
       "  </tbody>\n",
       "</table>\n",
       "<p>3 rows × 25 columns</p>\n",
       "</div>"
      ],
      "text/plain": [
       "         id  OVD_t1  OVD_t2  OVD_t3  OVD_sum  pay_normal  prod_code  \\\n",
       "0  58987402       0       0       0        0           1         10   \n",
       "1  58995151       0       0       0        0           1          5   \n",
       "2  58997200       0       0       0        0           2          5   \n",
       "\n",
       "   prod_limit update_date  new_balance  ...   fea_2 fea_3     fea_4  fea_5  \\\n",
       "0     16500.0  04/12/2016          0.0  ...  1241.0     3   62000.0      2   \n",
       "1         NaN  04/12/2016     588720.0  ...     NaN     2  126000.0      2   \n",
       "2         NaN  04/12/2016     840000.0  ...  1376.0     1  150000.0      2   \n",
       "\n",
       "   fea_6  fea_7  fea_8  fea_9  fea_10      fea_11  \n",
       "0     15      9     95      4   60023    1.000000  \n",
       "1     11      9    115      4  450028  224.267697  \n",
       "2     11     -1    110      4   60000  219.248717  \n",
       "\n",
       "[3 rows x 25 columns]"
      ]
     },
     "execution_count": 9,
     "metadata": {},
     "output_type": "execute_result"
    }
   ],
   "source": [
    "#carrega template do jinja\n",
    "query_merge_customer_payment = templateEnv.get_template(FILE_MERGE_COSTUMER_PAYMENT).render(id=\"id\")\n",
    "# exibe a tabela com merge de customer e payment\n",
    "merge_customer_payment = pd.read_sql_query(query_merge_customer_payment, conn)\n",
    "merge_customer_payment.head(3)"
   ]
  },
  {
   "cell_type": "code",
   "execution_count": 10,
   "id": "6a9d7895-59f5-4723-9eee-1435792bd715",
   "metadata": {},
   "outputs": [],
   "source": [
    "# fechar conexao\n",
    "conn.close()"
   ]
  },
  {
   "cell_type": "markdown",
   "id": "cd0022b5-37ac-4158-94cf-dd893e1baf8b",
   "metadata": {},
   "source": [
    "## 1.0 Analise da tabela de clientes"
   ]
  },
  {
   "cell_type": "code",
   "execution_count": 11,
   "id": "a68cb674-adb1-4549-92f2-8a7340572aca",
   "metadata": {},
   "outputs": [
    {
     "data": {
      "text/plain": [
       "Index(['label', 'id', 'fea_1', 'fea_2', 'fea_3', 'fea_4', 'fea_5', 'fea_6',\n",
       "       'fea_7', 'fea_8', 'fea_9', 'fea_10', 'fea_11'],\n",
       "      dtype='object')"
      ]
     },
     "execution_count": 11,
     "metadata": {},
     "output_type": "execute_result"
    }
   ],
   "source": [
    "# colunas da tabela\n",
    "customer.columns"
   ]
  },
  {
   "cell_type": "code",
   "execution_count": 12,
   "id": "ceb6b609-2538-4173-acf9-55628e1f7639",
   "metadata": {},
   "outputs": [
    {
     "name": "stdout",
     "output_type": "stream",
     "text": [
      "(1125, 13)\n",
      "<class 'pandas.core.frame.DataFrame'>\n",
      "RangeIndex: 1125 entries, 0 to 1124\n",
      "Data columns (total 13 columns):\n",
      " #   Column  Non-Null Count  Dtype  \n",
      "---  ------  --------------  -----  \n",
      " 0   label   1125 non-null   int64  \n",
      " 1   id      1125 non-null   int64  \n",
      " 2   fea_1   1125 non-null   int64  \n",
      " 3   fea_2   976 non-null    float64\n",
      " 4   fea_3   1125 non-null   int64  \n",
      " 5   fea_4   1125 non-null   float64\n",
      " 6   fea_5   1125 non-null   int64  \n",
      " 7   fea_6   1125 non-null   int64  \n",
      " 8   fea_7   1125 non-null   int64  \n",
      " 9   fea_8   1125 non-null   int64  \n",
      " 10  fea_9   1125 non-null   int64  \n",
      " 11  fea_10  1125 non-null   int64  \n",
      " 12  fea_11  1125 non-null   float64\n",
      "dtypes: float64(3), int64(10)\n",
      "memory usage: 114.4 KB\n",
      "\n",
      " *** Aparentemente nao tem null em nenhuma coluna\n"
     ]
    }
   ],
   "source": [
    "# Analise preliminar de vazios e quantidade de observacoes\n",
    "print(customer.shape)\n",
    "customer.info()\n",
    "print(\"\\n *** Aparentemente nao tem null em nenhuma coluna\")"
   ]
  },
  {
   "cell_type": "code",
   "execution_count": 13,
   "id": "88eb54d2-c767-477a-82d1-d6f7ad2a299b",
   "metadata": {},
   "outputs": [
    {
     "data": {
      "text/plain": [
       "label       0\n",
       "id          0\n",
       "fea_1       0\n",
       "fea_2     149\n",
       "fea_3       0\n",
       "fea_4       0\n",
       "fea_5       0\n",
       "fea_6       0\n",
       "fea_7       0\n",
       "fea_8       0\n",
       "fea_9       0\n",
       "fea_10      0\n",
       "fea_11      0\n",
       "dtype: int64"
      ]
     },
     "execution_count": 13,
     "metadata": {},
     "output_type": "execute_result"
    }
   ],
   "source": [
    "# verifica os nulls\n",
    "customer.isnull().sum()"
   ]
  },
  {
   "cell_type": "code",
   "execution_count": 14,
   "id": "9fb98f4c-cd47-44ea-8cd5-e05f6107e8f4",
   "metadata": {},
   "outputs": [
    {
     "data": {
      "text/html": [
       "<div>\n",
       "<style scoped>\n",
       "    .dataframe tbody tr th:only-of-type {\n",
       "        vertical-align: middle;\n",
       "    }\n",
       "\n",
       "    .dataframe tbody tr th {\n",
       "        vertical-align: top;\n",
       "    }\n",
       "\n",
       "    .dataframe thead th {\n",
       "        text-align: right;\n",
       "    }\n",
       "</style>\n",
       "<table border=\"1\" class=\"dataframe\">\n",
       "  <thead>\n",
       "    <tr style=\"text-align: right;\">\n",
       "      <th></th>\n",
       "      <th>label</th>\n",
       "      <th>id</th>\n",
       "      <th>fea_1</th>\n",
       "      <th>fea_2</th>\n",
       "      <th>fea_3</th>\n",
       "      <th>fea_4</th>\n",
       "      <th>fea_5</th>\n",
       "      <th>fea_6</th>\n",
       "      <th>fea_7</th>\n",
       "      <th>fea_8</th>\n",
       "      <th>fea_9</th>\n",
       "      <th>fea_10</th>\n",
       "      <th>fea_11</th>\n",
       "    </tr>\n",
       "  </thead>\n",
       "  <tbody>\n",
       "    <tr>\n",
       "      <th>count</th>\n",
       "      <td>1125.000000</td>\n",
       "      <td>1.125000e+03</td>\n",
       "      <td>1125.000000</td>\n",
       "      <td>976.000000</td>\n",
       "      <td>1125.000000</td>\n",
       "      <td>1.125000e+03</td>\n",
       "      <td>1125.000000</td>\n",
       "      <td>1125.000000</td>\n",
       "      <td>1125.000000</td>\n",
       "      <td>1125.000000</td>\n",
       "      <td>1125.000000</td>\n",
       "      <td>1125.000000</td>\n",
       "      <td>1125.000000</td>\n",
       "    </tr>\n",
       "    <tr>\n",
       "      <th>mean</th>\n",
       "      <td>0.200000</td>\n",
       "      <td>5.783677e+07</td>\n",
       "      <td>5.482667</td>\n",
       "      <td>1283.911373</td>\n",
       "      <td>2.333333</td>\n",
       "      <td>1.208836e+05</td>\n",
       "      <td>1.928889</td>\n",
       "      <td>10.872000</td>\n",
       "      <td>4.832889</td>\n",
       "      <td>100.802667</td>\n",
       "      <td>4.195556</td>\n",
       "      <td>164618.495111</td>\n",
       "      <td>134.999004</td>\n",
       "    </tr>\n",
       "    <tr>\n",
       "      <th>std</th>\n",
       "      <td>0.400178</td>\n",
       "      <td>1.817150e+06</td>\n",
       "      <td>1.383338</td>\n",
       "      <td>51.764022</td>\n",
       "      <td>0.878773</td>\n",
       "      <td>8.844523e+04</td>\n",
       "      <td>0.257125</td>\n",
       "      <td>2.676437</td>\n",
       "      <td>2.971182</td>\n",
       "      <td>11.988955</td>\n",
       "      <td>0.855679</td>\n",
       "      <td>152520.488281</td>\n",
       "      <td>112.616798</td>\n",
       "    </tr>\n",
       "    <tr>\n",
       "      <th>min</th>\n",
       "      <td>0.000000</td>\n",
       "      <td>5.498235e+07</td>\n",
       "      <td>1.000000</td>\n",
       "      <td>1116.500000</td>\n",
       "      <td>1.000000</td>\n",
       "      <td>1.500000e+04</td>\n",
       "      <td>1.000000</td>\n",
       "      <td>3.000000</td>\n",
       "      <td>-1.000000</td>\n",
       "      <td>64.000000</td>\n",
       "      <td>1.000000</td>\n",
       "      <td>60000.000000</td>\n",
       "      <td>1.000000</td>\n",
       "    </tr>\n",
       "    <tr>\n",
       "      <th>25%</th>\n",
       "      <td>0.000000</td>\n",
       "      <td>5.499050e+07</td>\n",
       "      <td>4.000000</td>\n",
       "      <td>1244.000000</td>\n",
       "      <td>1.000000</td>\n",
       "      <td>7.200000e+04</td>\n",
       "      <td>2.000000</td>\n",
       "      <td>8.000000</td>\n",
       "      <td>5.000000</td>\n",
       "      <td>90.000000</td>\n",
       "      <td>3.000000</td>\n",
       "      <td>60044.000000</td>\n",
       "      <td>1.000000</td>\n",
       "    </tr>\n",
       "    <tr>\n",
       "      <th>50%</th>\n",
       "      <td>0.000000</td>\n",
       "      <td>5.898975e+07</td>\n",
       "      <td>5.000000</td>\n",
       "      <td>1281.500000</td>\n",
       "      <td>3.000000</td>\n",
       "      <td>1.020000e+05</td>\n",
       "      <td>2.000000</td>\n",
       "      <td>11.000000</td>\n",
       "      <td>5.000000</td>\n",
       "      <td>105.000000</td>\n",
       "      <td>4.000000</td>\n",
       "      <td>72000.000000</td>\n",
       "      <td>173.205081</td>\n",
       "    </tr>\n",
       "    <tr>\n",
       "      <th>75%</th>\n",
       "      <td>0.000000</td>\n",
       "      <td>5.899799e+07</td>\n",
       "      <td>7.000000</td>\n",
       "      <td>1314.500000</td>\n",
       "      <td>3.000000</td>\n",
       "      <td>1.390000e+05</td>\n",
       "      <td>2.000000</td>\n",
       "      <td>11.000000</td>\n",
       "      <td>5.000000</td>\n",
       "      <td>111.000000</td>\n",
       "      <td>5.000000</td>\n",
       "      <td>151307.000000</td>\n",
       "      <td>202.484567</td>\n",
       "    </tr>\n",
       "    <tr>\n",
       "      <th>max</th>\n",
       "      <td>1.000000</td>\n",
       "      <td>5.900624e+07</td>\n",
       "      <td>7.000000</td>\n",
       "      <td>1481.000000</td>\n",
       "      <td>3.000000</td>\n",
       "      <td>1.200000e+06</td>\n",
       "      <td>2.000000</td>\n",
       "      <td>16.000000</td>\n",
       "      <td>10.000000</td>\n",
       "      <td>115.000000</td>\n",
       "      <td>5.000000</td>\n",
       "      <td>650070.000000</td>\n",
       "      <td>707.106781</td>\n",
       "    </tr>\n",
       "  </tbody>\n",
       "</table>\n",
       "</div>"
      ],
      "text/plain": [
       "             label            id        fea_1        fea_2        fea_3  \\\n",
       "count  1125.000000  1.125000e+03  1125.000000   976.000000  1125.000000   \n",
       "mean      0.200000  5.783677e+07     5.482667  1283.911373     2.333333   \n",
       "std       0.400178  1.817150e+06     1.383338    51.764022     0.878773   \n",
       "min       0.000000  5.498235e+07     1.000000  1116.500000     1.000000   \n",
       "25%       0.000000  5.499050e+07     4.000000  1244.000000     1.000000   \n",
       "50%       0.000000  5.898975e+07     5.000000  1281.500000     3.000000   \n",
       "75%       0.000000  5.899799e+07     7.000000  1314.500000     3.000000   \n",
       "max       1.000000  5.900624e+07     7.000000  1481.000000     3.000000   \n",
       "\n",
       "              fea_4        fea_5        fea_6        fea_7        fea_8  \\\n",
       "count  1.125000e+03  1125.000000  1125.000000  1125.000000  1125.000000   \n",
       "mean   1.208836e+05     1.928889    10.872000     4.832889   100.802667   \n",
       "std    8.844523e+04     0.257125     2.676437     2.971182    11.988955   \n",
       "min    1.500000e+04     1.000000     3.000000    -1.000000    64.000000   \n",
       "25%    7.200000e+04     2.000000     8.000000     5.000000    90.000000   \n",
       "50%    1.020000e+05     2.000000    11.000000     5.000000   105.000000   \n",
       "75%    1.390000e+05     2.000000    11.000000     5.000000   111.000000   \n",
       "max    1.200000e+06     2.000000    16.000000    10.000000   115.000000   \n",
       "\n",
       "             fea_9         fea_10       fea_11  \n",
       "count  1125.000000    1125.000000  1125.000000  \n",
       "mean      4.195556  164618.495111   134.999004  \n",
       "std       0.855679  152520.488281   112.616798  \n",
       "min       1.000000   60000.000000     1.000000  \n",
       "25%       3.000000   60044.000000     1.000000  \n",
       "50%       4.000000   72000.000000   173.205081  \n",
       "75%       5.000000  151307.000000   202.484567  \n",
       "max       5.000000  650070.000000   707.106781  "
      ]
     },
     "execution_count": 14,
     "metadata": {},
     "output_type": "execute_result"
    }
   ],
   "source": [
    "# analise dos valores\n",
    "customer.describe()"
   ]
  },
  {
   "cell_type": "code",
   "execution_count": 15,
   "id": "eb9c8868-de98-4fd3-b88a-2c06d205a61d",
   "metadata": {},
   "outputs": [
    {
     "data": {
      "text/plain": [
       "label\n",
       "0        900\n",
       "1        225\n",
       "dtype: int64"
      ]
     },
     "execution_count": 15,
     "metadata": {},
     "output_type": "execute_result"
    }
   ],
   "source": [
    "# itens da coluna label\n",
    "customer[['label']].value_counts()"
   ]
  },
  {
   "cell_type": "code",
   "execution_count": 16,
   "id": "b6fa7fb2-f2b2-484c-9bda-259f0fe5e5eb",
   "metadata": {},
   "outputs": [
    {
     "name": "stdout",
     "output_type": "stream",
     "text": [
      "Qtd total de obs: 1125\n",
      "Qtd obs removendo as duplicatas: 1125\n",
      "\n",
      "*** nao tem duplicatas na coluna id\n"
     ]
    }
   ],
   "source": [
    "# analisando se a coluna id tem duplicatas\n",
    "print(f'Qtd total de obs: {customer[[\"id\"]].shape[0]}')\n",
    "print(\n",
    "    f'Qtd obs removendo as duplicatas: {customer[[\"id\"]].drop_duplicates().shape[0]}'\n",
    ")\n",
    "print('\\n*** nao tem duplicatas na coluna id')"
   ]
  },
  {
   "cell_type": "code",
   "execution_count": 17,
   "id": "e3c8b88e-bd7e-4c00-a1f9-cce133eda66f",
   "metadata": {},
   "outputs": [
    {
     "name": "stdout",
     "output_type": "stream",
     "text": [
      "8    1125\n",
      "Name: len_id, dtype: int64\n",
      " *** todos ids tem o mesmo comprimento\n"
     ]
    }
   ],
   "source": [
    "# verifica se a coluna id segue um padrao\n",
    "customer['len_id'] = customer['id'].astype('str').str.len()\n",
    "print(customer['len_id'].value_counts())\n",
    "print(' *** todos ids tem o mesmo comprimento')"
   ]
  },
  {
   "cell_type": "code",
   "execution_count": 18,
   "id": "3e9960a5-85b0-4995-8f1a-e171f3a8f9df",
   "metadata": {},
   "outputs": [
    {
     "data": {
      "text/html": [
       "<div>\n",
       "<style scoped>\n",
       "    .dataframe tbody tr th:only-of-type {\n",
       "        vertical-align: middle;\n",
       "    }\n",
       "\n",
       "    .dataframe tbody tr th {\n",
       "        vertical-align: top;\n",
       "    }\n",
       "\n",
       "    .dataframe thead th {\n",
       "        text-align: right;\n",
       "    }\n",
       "</style>\n",
       "<table border=\"1\" class=\"dataframe\">\n",
       "  <thead>\n",
       "    <tr style=\"text-align: right;\">\n",
       "      <th></th>\n",
       "      <th>label</th>\n",
       "      <th>id</th>\n",
       "      <th>fea_1</th>\n",
       "      <th>fea_2</th>\n",
       "      <th>fea_3</th>\n",
       "      <th>fea_4</th>\n",
       "      <th>fea_5</th>\n",
       "      <th>fea_6</th>\n",
       "      <th>fea_7</th>\n",
       "      <th>fea_8</th>\n",
       "      <th>fea_9</th>\n",
       "      <th>fea_10</th>\n",
       "      <th>fea_11</th>\n",
       "      <th>len_id</th>\n",
       "    </tr>\n",
       "  </thead>\n",
       "  <tbody>\n",
       "  </tbody>\n",
       "</table>\n",
       "</div>"
      ],
      "text/plain": [
       "Empty DataFrame\n",
       "Columns: [label, id, fea_1, fea_2, fea_3, fea_4, fea_5, fea_6, fea_7, fea_8, fea_9, fea_10, fea_11, len_id]\n",
       "Index: []"
      ]
     },
     "execution_count": 18,
     "metadata": {},
     "output_type": "execute_result"
    }
   ],
   "source": [
    "# Verificando se existe vazios escondidos como espaco\n",
    "customer.query(\n",
    "    'label == \" \" or id == \" \" or fea_1 == \" \" or fea_2 == \" \" or fea_3 == \" \" or fea_4 == \" \"'\n",
    ")"
   ]
  },
  {
   "cell_type": "code",
   "execution_count": 19,
   "id": "551dc1e5-2c70-43dc-a012-e027aad8d23d",
   "metadata": {},
   "outputs": [
    {
     "name": "stdout",
     "output_type": "stream",
     "text": [
      " *** a base customer tem null nas colunas [fea_2]\n"
     ]
    }
   ],
   "source": [
    "print(' *** a base customer tem null nas colunas [fea_2]')"
   ]
  },
  {
   "cell_type": "markdown",
   "id": "6e493f13-a566-4218-be6c-7f7eec23dfc0",
   "metadata": {},
   "source": [
    "## 2.0 Analise da tabela de pagamento"
   ]
  },
  {
   "cell_type": "code",
   "execution_count": 20,
   "id": "b2bfb545-83ff-4d51-bf42-fbebbc77a470",
   "metadata": {},
   "outputs": [
    {
     "name": "stdout",
     "output_type": "stream",
     "text": [
      "(8250, 12)\n",
      "<class 'pandas.core.frame.DataFrame'>\n",
      "RangeIndex: 8250 entries, 0 to 8249\n",
      "Data columns (total 12 columns):\n",
      " #   Column           Non-Null Count  Dtype  \n",
      "---  ------           --------------  -----  \n",
      " 0   id               8250 non-null   int64  \n",
      " 1   OVD_t1           8250 non-null   int64  \n",
      " 2   OVD_t2           8250 non-null   int64  \n",
      " 3   OVD_t3           8250 non-null   int64  \n",
      " 4   OVD_sum          8250 non-null   int64  \n",
      " 5   pay_normal       8250 non-null   int64  \n",
      " 6   prod_code        8250 non-null   int64  \n",
      " 7   prod_limit       2132 non-null   float64\n",
      " 8   update_date      8224 non-null   object \n",
      " 9   new_balance      8250 non-null   float64\n",
      " 10  highest_balance  7841 non-null   float64\n",
      " 11  report_date      7136 non-null   object \n",
      "dtypes: float64(3), int64(7), object(2)\n",
      "memory usage: 773.6+ KB\n",
      "\n",
      " *** existem nulls nas colunas [prod_limit, update_date, highest_balance, report_date]\n"
     ]
    }
   ],
   "source": [
    "# Analise preliminar de vazios e quantidade de observacoes\n",
    "print(payment.shape)\n",
    "payment.info()\n",
    "print(\n",
    "    \"\\n *** existem nulls nas colunas [prod_limit, update_date, highest_balance, report_date]\"\n",
    ")"
   ]
  },
  {
   "cell_type": "code",
   "execution_count": 21,
   "id": "3914d8aa-c3cc-4778-a4b1-18f701a1dc04",
   "metadata": {},
   "outputs": [
    {
     "data": {
      "text/plain": [
       "id                    0\n",
       "OVD_t1                0\n",
       "OVD_t2                0\n",
       "OVD_t3                0\n",
       "OVD_sum               0\n",
       "pay_normal            0\n",
       "prod_code             0\n",
       "prod_limit         6118\n",
       "update_date          26\n",
       "new_balance           0\n",
       "highest_balance     409\n",
       "report_date        1114\n",
       "dtype: int64"
      ]
     },
     "execution_count": 21,
     "metadata": {},
     "output_type": "execute_result"
    }
   ],
   "source": [
    "# verifica nulls\n",
    "payment.isna().sum()"
   ]
  },
  {
   "cell_type": "code",
   "execution_count": 22,
   "id": "a88c3406-32c4-4666-b8be-5a9cd51bb79c",
   "metadata": {},
   "outputs": [
    {
     "data": {
      "text/html": [
       "<div>\n",
       "<style scoped>\n",
       "    .dataframe tbody tr th:only-of-type {\n",
       "        vertical-align: middle;\n",
       "    }\n",
       "\n",
       "    .dataframe tbody tr th {\n",
       "        vertical-align: top;\n",
       "    }\n",
       "\n",
       "    .dataframe thead th {\n",
       "        text-align: right;\n",
       "    }\n",
       "</style>\n",
       "<table border=\"1\" class=\"dataframe\">\n",
       "  <thead>\n",
       "    <tr style=\"text-align: right;\">\n",
       "      <th></th>\n",
       "      <th>id</th>\n",
       "      <th>OVD_t1</th>\n",
       "      <th>OVD_t2</th>\n",
       "      <th>OVD_t3</th>\n",
       "      <th>OVD_sum</th>\n",
       "      <th>pay_normal</th>\n",
       "      <th>prod_code</th>\n",
       "      <th>prod_limit</th>\n",
       "      <th>new_balance</th>\n",
       "      <th>highest_balance</th>\n",
       "    </tr>\n",
       "  </thead>\n",
       "  <tbody>\n",
       "    <tr>\n",
       "      <th>count</th>\n",
       "      <td>8.250000e+03</td>\n",
       "      <td>8250.000000</td>\n",
       "      <td>8250.000000</td>\n",
       "      <td>8250.000000</td>\n",
       "      <td>8250.000000</td>\n",
       "      <td>8250.000000</td>\n",
       "      <td>8250.000000</td>\n",
       "      <td>2132.000000</td>\n",
       "      <td>8.250000e+03</td>\n",
       "      <td>7.841000e+03</td>\n",
       "    </tr>\n",
       "    <tr>\n",
       "      <th>mean</th>\n",
       "      <td>5.782173e+07</td>\n",
       "      <td>0.249091</td>\n",
       "      <td>0.127152</td>\n",
       "      <td>0.369212</td>\n",
       "      <td>187.681697</td>\n",
       "      <td>14.526667</td>\n",
       "      <td>8.232000</td>\n",
       "      <td>85789.702205</td>\n",
       "      <td>1.054042e+05</td>\n",
       "      <td>2.192027e+05</td>\n",
       "    </tr>\n",
       "    <tr>\n",
       "      <th>std</th>\n",
       "      <td>1.822724e+06</td>\n",
       "      <td>1.250197</td>\n",
       "      <td>0.860046</td>\n",
       "      <td>2.900320</td>\n",
       "      <td>1804.232570</td>\n",
       "      <td>12.053627</td>\n",
       "      <td>3.533055</td>\n",
       "      <td>74345.828184</td>\n",
       "      <td>1.887704e+06</td>\n",
       "      <td>2.814536e+06</td>\n",
       "    </tr>\n",
       "    <tr>\n",
       "      <th>min</th>\n",
       "      <td>5.498235e+07</td>\n",
       "      <td>0.000000</td>\n",
       "      <td>0.000000</td>\n",
       "      <td>0.000000</td>\n",
       "      <td>0.000000</td>\n",
       "      <td>0.000000</td>\n",
       "      <td>0.000000</td>\n",
       "      <td>1.100000</td>\n",
       "      <td>-4.030320e+04</td>\n",
       "      <td>5.010000e+02</td>\n",
       "    </tr>\n",
       "    <tr>\n",
       "      <th>25%</th>\n",
       "      <td>5.499050e+07</td>\n",
       "      <td>0.000000</td>\n",
       "      <td>0.000000</td>\n",
       "      <td>0.000000</td>\n",
       "      <td>0.000000</td>\n",
       "      <td>4.000000</td>\n",
       "      <td>6.000000</td>\n",
       "      <td>37400.000000</td>\n",
       "      <td>0.000000e+00</td>\n",
       "      <td>2.345300e+04</td>\n",
       "    </tr>\n",
       "    <tr>\n",
       "      <th>50%</th>\n",
       "      <td>5.898905e+07</td>\n",
       "      <td>0.000000</td>\n",
       "      <td>0.000000</td>\n",
       "      <td>0.000000</td>\n",
       "      <td>0.000000</td>\n",
       "      <td>11.000000</td>\n",
       "      <td>10.000000</td>\n",
       "      <td>68200.000000</td>\n",
       "      <td>0.000000e+00</td>\n",
       "      <td>4.404700e+04</td>\n",
       "    </tr>\n",
       "    <tr>\n",
       "      <th>75%</th>\n",
       "      <td>5.899655e+07</td>\n",
       "      <td>0.000000</td>\n",
       "      <td>0.000000</td>\n",
       "      <td>0.000000</td>\n",
       "      <td>0.000000</td>\n",
       "      <td>25.000000</td>\n",
       "      <td>10.000000</td>\n",
       "      <td>112200.000000</td>\n",
       "      <td>2.494800e+04</td>\n",
       "      <td>1.005000e+05</td>\n",
       "    </tr>\n",
       "    <tr>\n",
       "      <th>max</th>\n",
       "      <td>5.900624e+07</td>\n",
       "      <td>34.000000</td>\n",
       "      <td>34.000000</td>\n",
       "      <td>35.000000</td>\n",
       "      <td>31500.000000</td>\n",
       "      <td>36.000000</td>\n",
       "      <td>27.000000</td>\n",
       "      <td>660000.000000</td>\n",
       "      <td>1.632120e+08</td>\n",
       "      <td>1.800005e+08</td>\n",
       "    </tr>\n",
       "  </tbody>\n",
       "</table>\n",
       "</div>"
      ],
      "text/plain": [
       "                 id       OVD_t1       OVD_t2       OVD_t3       OVD_sum  \\\n",
       "count  8.250000e+03  8250.000000  8250.000000  8250.000000   8250.000000   \n",
       "mean   5.782173e+07     0.249091     0.127152     0.369212    187.681697   \n",
       "std    1.822724e+06     1.250197     0.860046     2.900320   1804.232570   \n",
       "min    5.498235e+07     0.000000     0.000000     0.000000      0.000000   \n",
       "25%    5.499050e+07     0.000000     0.000000     0.000000      0.000000   \n",
       "50%    5.898905e+07     0.000000     0.000000     0.000000      0.000000   \n",
       "75%    5.899655e+07     0.000000     0.000000     0.000000      0.000000   \n",
       "max    5.900624e+07    34.000000    34.000000    35.000000  31500.000000   \n",
       "\n",
       "        pay_normal    prod_code     prod_limit   new_balance  highest_balance  \n",
       "count  8250.000000  8250.000000    2132.000000  8.250000e+03     7.841000e+03  \n",
       "mean     14.526667     8.232000   85789.702205  1.054042e+05     2.192027e+05  \n",
       "std      12.053627     3.533055   74345.828184  1.887704e+06     2.814536e+06  \n",
       "min       0.000000     0.000000       1.100000 -4.030320e+04     5.010000e+02  \n",
       "25%       4.000000     6.000000   37400.000000  0.000000e+00     2.345300e+04  \n",
       "50%      11.000000    10.000000   68200.000000  0.000000e+00     4.404700e+04  \n",
       "75%      25.000000    10.000000  112200.000000  2.494800e+04     1.005000e+05  \n",
       "max      36.000000    27.000000  660000.000000  1.632120e+08     1.800005e+08  "
      ]
     },
     "execution_count": 22,
     "metadata": {},
     "output_type": "execute_result"
    }
   ],
   "source": [
    "# analise dos valores\n",
    "payment.describe()"
   ]
  },
  {
   "cell_type": "code",
   "execution_count": 23,
   "id": "79a825a1-0f1e-437a-a374-2bc73d406d78",
   "metadata": {},
   "outputs": [
    {
     "name": "stdout",
     "output_type": "stream",
     "text": [
      "Qtd total de obs: 8250\n",
      "Qtd obs removendo as duplicatas: 1125\n",
      "\n",
      "*** existem duplicatas o que faz sentido considerando que uma pessoa pode pagar mais de uma vez\n"
     ]
    }
   ],
   "source": [
    "# analisando se a coluna id tem duplicatas\n",
    "print(f'Qtd total de obs: {payment[[\"id\"]].shape[0]}')\n",
    "print(\n",
    "    f'Qtd obs removendo as duplicatas: {payment[[\"id\"]].drop_duplicates().shape[0]}'\n",
    ")\n",
    "print(\n",
    "    '\\n*** existem duplicatas o que faz sentido considerando que uma pessoa pode pagar mais de uma vez'\n",
    ")"
   ]
  },
  {
   "cell_type": "code",
   "execution_count": 24,
   "id": "1033e451-ae59-41d5-85d6-428c26411984",
   "metadata": {},
   "outputs": [
    {
     "name": "stdout",
     "output_type": "stream",
     "text": [
      "8    8250\n",
      "Name: len_id, dtype: int64\n",
      " *** todos ids tem o mesmo comprimento\n"
     ]
    }
   ],
   "source": [
    "# verifica se a coluna id segue um padrao\n",
    "payment['len_id'] = payment['id'].astype('str').str.len()\n",
    "print(payment['len_id'].value_counts())\n",
    "print(' *** todos ids tem o mesmo comprimento')"
   ]
  },
  {
   "cell_type": "code",
   "execution_count": 25,
   "id": "ada7d223-b073-44f8-89b5-3b101126e324",
   "metadata": {},
   "outputs": [
    {
     "name": "stdout",
     "output_type": "stream",
     "text": [
      " *** a base payment tem nulls nas colunas [prod_limit, update_date, highest_balance, report_date]\n"
     ]
    }
   ],
   "source": [
    "print(\n",
    "    ' *** a base payment tem nulls nas colunas [prod_limit, update_date, highest_balance, report_date]'\n",
    ")"
   ]
  },
  {
   "cell_type": "markdown",
   "id": "7c127d64-0fb0-47ab-9109-8ef4b799b9bc",
   "metadata": {},
   "source": [
    "## 3.0 Analisando a sinergia entre as duas tabelas"
   ]
  },
  {
   "cell_type": "code",
   "execution_count": 26,
   "id": "3995b8ab-1ca5-4d8a-9b94-d0d349e65ba0",
   "metadata": {},
   "outputs": [
    {
     "name": "stdout",
     "output_type": "stream",
     "text": [
      "tamanho da tabrla de merge: (8250, 3)\n",
      "0\n",
      "*** todos clientes da tabela de clientes tem algum pagamento\n"
     ]
    }
   ],
   "source": [
    "# existem clientes da tabela de clientes que nao tem pagamento?\n",
    "pagamento_clientes = (pd.merge(customer[['id', 'label']],\n",
    "                               payment[['id', 'prod_code']],\n",
    "                               how='left',\n",
    "                               on=['id']))\n",
    "print(f\"tamanho da tabrla de merge: {pagamento_clientes.shape}\")\n",
    "print(pagamento_clientes.query(\"prod_code.isna()\", engine=\"python\").shape[0])\n",
    "print(\"*** todos clientes da tabela de clientes tem algum pagamento\")"
   ]
  },
  {
   "cell_type": "code",
   "execution_count": 27,
   "id": "1aff480d-6ec7-44ad-a821-39ca57348bc2",
   "metadata": {},
   "outputs": [
    {
     "name": "stdout",
     "output_type": "stream",
     "text": [
      "tamanho da tabrla de merge: (8250, 25)\n",
      "0\n"
     ]
    }
   ],
   "source": [
    "# testando o merge utilizando a query do template jinja\n",
    "print(f\"tamanho da tabrla de merge: {merge_customer_payment.shape}\")\n",
    "print(merge_customer_payment.query(\"prod_code.isna()\", engine=\"python\").shape[0])"
   ]
  }
 ],
 "metadata": {
  "kernelspec": {
   "display_name": "Python 3 (ipykernel)",
   "language": "python",
   "name": "python3"
  },
  "language_info": {
   "codemirror_mode": {
    "name": "ipython",
    "version": 3
   },
   "file_extension": ".py",
   "mimetype": "text/x-python",
   "name": "python",
   "nbconvert_exporter": "python",
   "pygments_lexer": "ipython3",
   "version": "3.8.8"
  },
  "toc-showcode": false,
  "toc-showmarkdowntxt": true
 },
 "nbformat": 4,
 "nbformat_minor": 5
}
