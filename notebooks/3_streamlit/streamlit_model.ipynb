{
 "cells": [
  {
   "cell_type": "code",
   "execution_count": 1,
   "id": "42243a99-a36e-4bbf-bc66-26de13632f1c",
   "metadata": {},
   "outputs": [],
   "source": [
    "import sys\n",
    "import os\n",
    "sys.path.insert(0,'../../models/')\n",
    "\n",
    "import pandas as pd\n",
    "\n",
    "import sqlite3\n",
    "from jinja2 import Environment, FileSystemLoader\n",
    "\n",
    "from utils import open_model\n",
    "from utils import execute_query\n",
    "from utils import predict_model"
   ]
  },
  {
   "cell_type": "code",
   "execution_count": 2,
   "id": "35011bde-0aa7-4170-9623-cc69e34d0533",
   "metadata": {},
   "outputs": [],
   "source": [
    "# PATHS\n",
    "PATH_MODEl = '../../models/trained_models'\n",
    "PATH_DB = '../../data/DB'\n",
    "PATH_TEMPLATES = '../../models/templates'"
   ]
  },
  {
   "cell_type": "code",
   "execution_count": 3,
   "id": "219040da-38a3-454d-a4d3-d1107273f45d",
   "metadata": {},
   "outputs": [],
   "source": [
    "# FILES NAME\n",
    "FILE_R_FOREST = \"r_forest.sav\"\n",
    "FILE_MODELING_DATA = \"modeling_data.sql.j2\""
   ]
  },
  {
   "cell_type": "code",
   "execution_count": 4,
   "id": "5028a68f-43db-4e4c-830a-9a8ce34b8b4b",
   "metadata": {},
   "outputs": [
    {
     "data": {
      "text/html": [
       "<style>#sk-container-id-1 {color: black;background-color: white;}#sk-container-id-1 pre{padding: 0;}#sk-container-id-1 div.sk-toggleable {background-color: white;}#sk-container-id-1 label.sk-toggleable__label {cursor: pointer;display: block;width: 100%;margin-bottom: 0;padding: 0.3em;box-sizing: border-box;text-align: center;}#sk-container-id-1 label.sk-toggleable__label-arrow:before {content: \"▸\";float: left;margin-right: 0.25em;color: #696969;}#sk-container-id-1 label.sk-toggleable__label-arrow:hover:before {color: black;}#sk-container-id-1 div.sk-estimator:hover label.sk-toggleable__label-arrow:before {color: black;}#sk-container-id-1 div.sk-toggleable__content {max-height: 0;max-width: 0;overflow: hidden;text-align: left;background-color: #f0f8ff;}#sk-container-id-1 div.sk-toggleable__content pre {margin: 0.2em;color: black;border-radius: 0.25em;background-color: #f0f8ff;}#sk-container-id-1 input.sk-toggleable__control:checked~div.sk-toggleable__content {max-height: 200px;max-width: 100%;overflow: auto;}#sk-container-id-1 input.sk-toggleable__control:checked~label.sk-toggleable__label-arrow:before {content: \"▾\";}#sk-container-id-1 div.sk-estimator input.sk-toggleable__control:checked~label.sk-toggleable__label {background-color: #d4ebff;}#sk-container-id-1 div.sk-label input.sk-toggleable__control:checked~label.sk-toggleable__label {background-color: #d4ebff;}#sk-container-id-1 input.sk-hidden--visually {border: 0;clip: rect(1px 1px 1px 1px);clip: rect(1px, 1px, 1px, 1px);height: 1px;margin: -1px;overflow: hidden;padding: 0;position: absolute;width: 1px;}#sk-container-id-1 div.sk-estimator {font-family: monospace;background-color: #f0f8ff;border: 1px dotted black;border-radius: 0.25em;box-sizing: border-box;margin-bottom: 0.5em;}#sk-container-id-1 div.sk-estimator:hover {background-color: #d4ebff;}#sk-container-id-1 div.sk-parallel-item::after {content: \"\";width: 100%;border-bottom: 1px solid gray;flex-grow: 1;}#sk-container-id-1 div.sk-label:hover label.sk-toggleable__label {background-color: #d4ebff;}#sk-container-id-1 div.sk-serial::before {content: \"\";position: absolute;border-left: 1px solid gray;box-sizing: border-box;top: 0;bottom: 0;left: 50%;z-index: 0;}#sk-container-id-1 div.sk-serial {display: flex;flex-direction: column;align-items: center;background-color: white;padding-right: 0.2em;padding-left: 0.2em;position: relative;}#sk-container-id-1 div.sk-item {position: relative;z-index: 1;}#sk-container-id-1 div.sk-parallel {display: flex;align-items: stretch;justify-content: center;background-color: white;position: relative;}#sk-container-id-1 div.sk-item::before, #sk-container-id-1 div.sk-parallel-item::before {content: \"\";position: absolute;border-left: 1px solid gray;box-sizing: border-box;top: 0;bottom: 0;left: 50%;z-index: -1;}#sk-container-id-1 div.sk-parallel-item {display: flex;flex-direction: column;z-index: 1;position: relative;background-color: white;}#sk-container-id-1 div.sk-parallel-item:first-child::after {align-self: flex-end;width: 50%;}#sk-container-id-1 div.sk-parallel-item:last-child::after {align-self: flex-start;width: 50%;}#sk-container-id-1 div.sk-parallel-item:only-child::after {width: 0;}#sk-container-id-1 div.sk-dashed-wrapped {border: 1px dashed gray;margin: 0 0.4em 0.5em 0.4em;box-sizing: border-box;padding-bottom: 0.4em;background-color: white;}#sk-container-id-1 div.sk-label label {font-family: monospace;font-weight: bold;display: inline-block;line-height: 1.2em;}#sk-container-id-1 div.sk-label-container {text-align: center;}#sk-container-id-1 div.sk-container {/* jupyter's `normalize.less` sets `[hidden] { display: none; }` but bootstrap.min.css set `[hidden] { display: none !important; }` so we also need the `!important` here to be able to override the default hidden behavior on the sphinx rendered scikit-learn.org. See: https://github.com/scikit-learn/scikit-learn/issues/21755 */display: inline-block !important;position: relative;}#sk-container-id-1 div.sk-text-repr-fallback {display: none;}</style><div id=\"sk-container-id-1\" class=\"sk-top-container\"><div class=\"sk-text-repr-fallback\"><pre>RandomForestClassifier(random_state=124)</pre><b>In a Jupyter environment, please rerun this cell to show the HTML representation or trust the notebook. <br />On GitHub, the HTML representation is unable to render, please try loading this page with nbviewer.org.</b></div><div class=\"sk-container\" hidden><div class=\"sk-item\"><div class=\"sk-estimator sk-toggleable\"><input class=\"sk-toggleable__control sk-hidden--visually\" id=\"sk-estimator-id-1\" type=\"checkbox\" checked><label for=\"sk-estimator-id-1\" class=\"sk-toggleable__label sk-toggleable__label-arrow\">RandomForestClassifier</label><div class=\"sk-toggleable__content\"><pre>RandomForestClassifier(random_state=124)</pre></div></div></div></div></div>"
      ],
      "text/plain": [
       "RandomForestClassifier(random_state=124)"
      ]
     },
     "execution_count": 4,
     "metadata": {},
     "output_type": "execute_result"
    }
   ],
   "source": [
    "# carrega o modelo\n",
    "r_forest = open_model(PATH_MODEl, FILE_R_FOREST)\n",
    "r_forest"
   ]
  },
  {
   "cell_type": "code",
   "execution_count": 5,
   "id": "48ca5e5e-8019-4335-b80e-031be620732f",
   "metadata": {},
   "outputs": [
    {
     "data": {
      "text/html": [
       "<div>\n",
       "<style scoped>\n",
       "    .dataframe tbody tr th:only-of-type {\n",
       "        vertical-align: middle;\n",
       "    }\n",
       "\n",
       "    .dataframe tbody tr th {\n",
       "        vertical-align: top;\n",
       "    }\n",
       "\n",
       "    .dataframe thead th {\n",
       "        text-align: right;\n",
       "    }\n",
       "</style>\n",
       "<table border=\"1\" class=\"dataframe\">\n",
       "  <thead>\n",
       "    <tr style=\"text-align: right;\">\n",
       "      <th></th>\n",
       "      <th>id</th>\n",
       "      <th>OVD_t1</th>\n",
       "      <th>OVD_t2</th>\n",
       "      <th>OVD_sum</th>\n",
       "      <th>pay_normal</th>\n",
       "      <th>new_balance</th>\n",
       "      <th>label</th>\n",
       "      <th>fea_1</th>\n",
       "      <th>fea_2</th>\n",
       "      <th>fea_3</th>\n",
       "      <th>fea_4</th>\n",
       "      <th>fea_5</th>\n",
       "      <th>fea_6</th>\n",
       "      <th>fea_7</th>\n",
       "      <th>fea_8</th>\n",
       "      <th>fea_9</th>\n",
       "      <th>fea_10</th>\n",
       "      <th>fea_11</th>\n",
       "    </tr>\n",
       "  </thead>\n",
       "  <tbody>\n",
       "    <tr>\n",
       "      <th>0</th>\n",
       "      <td>58987402</td>\n",
       "      <td>0</td>\n",
       "      <td>0</td>\n",
       "      <td>0</td>\n",
       "      <td>1</td>\n",
       "      <td>0.0</td>\n",
       "      <td>0</td>\n",
       "      <td>5</td>\n",
       "      <td>1241.000000</td>\n",
       "      <td>3</td>\n",
       "      <td>62000.0</td>\n",
       "      <td>2</td>\n",
       "      <td>15</td>\n",
       "      <td>9</td>\n",
       "      <td>95</td>\n",
       "      <td>4</td>\n",
       "      <td>60023</td>\n",
       "      <td>1.000000</td>\n",
       "    </tr>\n",
       "    <tr>\n",
       "      <th>1</th>\n",
       "      <td>58995151</td>\n",
       "      <td>0</td>\n",
       "      <td>0</td>\n",
       "      <td>0</td>\n",
       "      <td>1</td>\n",
       "      <td>588720.0</td>\n",
       "      <td>1</td>\n",
       "      <td>7</td>\n",
       "      <td>1286.156813</td>\n",
       "      <td>2</td>\n",
       "      <td>126000.0</td>\n",
       "      <td>2</td>\n",
       "      <td>11</td>\n",
       "      <td>9</td>\n",
       "      <td>115</td>\n",
       "      <td>4</td>\n",
       "      <td>450028</td>\n",
       "      <td>224.267697</td>\n",
       "    </tr>\n",
       "    <tr>\n",
       "      <th>2</th>\n",
       "      <td>58997200</td>\n",
       "      <td>0</td>\n",
       "      <td>0</td>\n",
       "      <td>0</td>\n",
       "      <td>2</td>\n",
       "      <td>840000.0</td>\n",
       "      <td>0</td>\n",
       "      <td>7</td>\n",
       "      <td>1376.000000</td>\n",
       "      <td>1</td>\n",
       "      <td>150000.0</td>\n",
       "      <td>2</td>\n",
       "      <td>11</td>\n",
       "      <td>-1</td>\n",
       "      <td>110</td>\n",
       "      <td>4</td>\n",
       "      <td>60000</td>\n",
       "      <td>219.248717</td>\n",
       "    </tr>\n",
       "  </tbody>\n",
       "</table>\n",
       "</div>"
      ],
      "text/plain": [
       "         id  OVD_t1  OVD_t2  OVD_sum  pay_normal  new_balance  label  fea_1  \\\n",
       "0  58987402       0       0        0           1          0.0      0      5   \n",
       "1  58995151       0       0        0           1     588720.0      1      7   \n",
       "2  58997200       0       0        0           2     840000.0      0      7   \n",
       "\n",
       "         fea_2  fea_3     fea_4  fea_5  fea_6  fea_7  fea_8  fea_9  fea_10  \\\n",
       "0  1241.000000      3   62000.0      2     15      9     95      4   60023   \n",
       "1  1286.156813      2  126000.0      2     11      9    115      4  450028   \n",
       "2  1376.000000      1  150000.0      2     11     -1    110      4   60000   \n",
       "\n",
       "       fea_11  \n",
       "0    1.000000  \n",
       "1  224.267697  \n",
       "2  219.248717  "
      ]
     },
     "execution_count": 5,
     "metadata": {},
     "output_type": "execute_result"
    }
   ],
   "source": [
    "# carrega base de modelagem do DB\n",
    "modeling_data = execute_query(PATH_DB, PATH_TEMPLATES, FILE_MODELING_DATA, ids='id')\n",
    "modeling_data.head(3)"
   ]
  },
  {
   "cell_type": "code",
   "execution_count": 6,
   "id": "b75fafda-0f41-4c63-b8bb-b63ff32c27ae",
   "metadata": {},
   "outputs": [
    {
     "data": {
      "text/plain": [
       "array([1])"
      ]
     },
     "execution_count": 6,
     "metadata": {},
     "output_type": "execute_result"
    }
   ],
   "source": [
    "case = modeling_data.drop(columns=['id','label']).iloc[1].to_list()\n",
    "\n",
    "predict_model(case=case, model=r_forest)"
   ]
  },
  {
   "cell_type": "code",
   "execution_count": 7,
   "id": "0bf3f3fb-ac89-4145-b207-e4cdd75cf0a3",
   "metadata": {},
   "outputs": [],
   "source": [
    "# inicia o jinja\n",
    "templateLoader = FileSystemLoader(\"../../models/templates/\")\n",
    "environment = Environment(loader=templateLoader)\n",
    "\n",
    "# cria um banco de dados no caminho especificado\n",
    "conn = sqlite3.connect('../../data/DB/credit_risk')\n",
    "cursor = conn.cursor()"
   ]
  },
  {
   "cell_type": "code",
   "execution_count": 8,
   "id": "c54b514c-d07e-4796-944b-c5457db58589",
   "metadata": {},
   "outputs": [
    {
     "data": {
      "text/html": [
       "<div>\n",
       "<style scoped>\n",
       "    .dataframe tbody tr th:only-of-type {\n",
       "        vertical-align: middle;\n",
       "    }\n",
       "\n",
       "    .dataframe tbody tr th {\n",
       "        vertical-align: top;\n",
       "    }\n",
       "\n",
       "    .dataframe thead th {\n",
       "        text-align: right;\n",
       "    }\n",
       "</style>\n",
       "<table border=\"1\" class=\"dataframe\">\n",
       "  <thead>\n",
       "    <tr style=\"text-align: right;\">\n",
       "      <th></th>\n",
       "      <th>id</th>\n",
       "      <th>OVD_t1</th>\n",
       "      <th>OVD_t2</th>\n",
       "      <th>OVD_sum</th>\n",
       "      <th>pay_normal</th>\n",
       "      <th>new_balance</th>\n",
       "      <th>label</th>\n",
       "      <th>fea_1</th>\n",
       "      <th>fea_2</th>\n",
       "      <th>fea_3</th>\n",
       "      <th>fea_4</th>\n",
       "      <th>fea_5</th>\n",
       "      <th>fea_6</th>\n",
       "      <th>fea_7</th>\n",
       "      <th>fea_8</th>\n",
       "      <th>fea_9</th>\n",
       "      <th>fea_10</th>\n",
       "      <th>fea_11</th>\n",
       "    </tr>\n",
       "  </thead>\n",
       "  <tbody>\n",
       "    <tr>\n",
       "      <th>0</th>\n",
       "      <td>58982754</td>\n",
       "      <td>1</td>\n",
       "      <td>0</td>\n",
       "      <td>1</td>\n",
       "      <td>35</td>\n",
       "      <td>36091.2</td>\n",
       "      <td>1</td>\n",
       "      <td>5</td>\n",
       "      <td>1322.0</td>\n",
       "      <td>3</td>\n",
       "      <td>195000.0</td>\n",
       "      <td>2</td>\n",
       "      <td>15</td>\n",
       "      <td>5</td>\n",
       "      <td>90</td>\n",
       "      <td>3</td>\n",
       "      <td>60033</td>\n",
       "      <td>240.831892</td>\n",
       "    </tr>\n",
       "    <tr>\n",
       "      <th>1</th>\n",
       "      <td>54985177</td>\n",
       "      <td>0</td>\n",
       "      <td>0</td>\n",
       "      <td>0</td>\n",
       "      <td>36</td>\n",
       "      <td>0.0</td>\n",
       "      <td>0</td>\n",
       "      <td>7</td>\n",
       "      <td>1262.0</td>\n",
       "      <td>3</td>\n",
       "      <td>121000.0</td>\n",
       "      <td>2</td>\n",
       "      <td>11</td>\n",
       "      <td>5</td>\n",
       "      <td>106</td>\n",
       "      <td>5</td>\n",
       "      <td>151300</td>\n",
       "      <td>387.356425</td>\n",
       "    </tr>\n",
       "    <tr>\n",
       "      <th>2</th>\n",
       "      <td>58990663</td>\n",
       "      <td>0</td>\n",
       "      <td>0</td>\n",
       "      <td>0</td>\n",
       "      <td>1</td>\n",
       "      <td>0.0</td>\n",
       "      <td>0</td>\n",
       "      <td>7</td>\n",
       "      <td>1314.5</td>\n",
       "      <td>3</td>\n",
       "      <td>150000.0</td>\n",
       "      <td>2</td>\n",
       "      <td>11</td>\n",
       "      <td>10</td>\n",
       "      <td>113</td>\n",
       "      <td>4</td>\n",
       "      <td>60023</td>\n",
       "      <td>187.082869</td>\n",
       "    </tr>\n",
       "    <tr>\n",
       "      <th>3</th>\n",
       "      <td>58990628</td>\n",
       "      <td>0</td>\n",
       "      <td>0</td>\n",
       "      <td>0</td>\n",
       "      <td>21</td>\n",
       "      <td>24272.4</td>\n",
       "      <td>0</td>\n",
       "      <td>7</td>\n",
       "      <td>1335.5</td>\n",
       "      <td>3</td>\n",
       "      <td>150000.0</td>\n",
       "      <td>2</td>\n",
       "      <td>11</td>\n",
       "      <td>9</td>\n",
       "      <td>105</td>\n",
       "      <td>5</td>\n",
       "      <td>350050</td>\n",
       "      <td>412.310563</td>\n",
       "    </tr>\n",
       "    <tr>\n",
       "      <th>4</th>\n",
       "      <td>54983915</td>\n",
       "      <td>0</td>\n",
       "      <td>0</td>\n",
       "      <td>0</td>\n",
       "      <td>3</td>\n",
       "      <td>-4.8</td>\n",
       "      <td>0</td>\n",
       "      <td>5</td>\n",
       "      <td>1256.0</td>\n",
       "      <td>3</td>\n",
       "      <td>110000.0</td>\n",
       "      <td>2</td>\n",
       "      <td>15</td>\n",
       "      <td>9</td>\n",
       "      <td>107</td>\n",
       "      <td>5</td>\n",
       "      <td>60018</td>\n",
       "      <td>1.000000</td>\n",
       "    </tr>\n",
       "  </tbody>\n",
       "</table>\n",
       "</div>"
      ],
      "text/plain": [
       "         id  OVD_t1  OVD_t2  OVD_sum  pay_normal  new_balance  label  fea_1  \\\n",
       "0  58982754       1       0        1          35      36091.2      1      5   \n",
       "1  54985177       0       0        0          36          0.0      0      7   \n",
       "2  58990663       0       0        0           1          0.0      0      7   \n",
       "3  58990628       0       0        0          21      24272.4      0      7   \n",
       "4  54983915       0       0        0           3         -4.8      0      5   \n",
       "\n",
       "    fea_2  fea_3     fea_4  fea_5  fea_6  fea_7  fea_8  fea_9  fea_10  \\\n",
       "0  1322.0      3  195000.0      2     15      5     90      3   60033   \n",
       "1  1262.0      3  121000.0      2     11      5    106      5  151300   \n",
       "2  1314.5      3  150000.0      2     11     10    113      4   60023   \n",
       "3  1335.5      3  150000.0      2     11      9    105      5  350050   \n",
       "4  1256.0      3  110000.0      2     15      9    107      5   60018   \n",
       "\n",
       "       fea_11  \n",
       "0  240.831892  \n",
       "1  387.356425  \n",
       "2  187.082869  \n",
       "3  412.310563  \n",
       "4    1.000000  "
      ]
     },
     "execution_count": 8,
     "metadata": {},
     "output_type": "execute_result"
    }
   ],
   "source": [
    "FILE_VALIDACAO = environment.get_template(\"validacao_data.sql.j2\")\n",
    "# carrega template do jinja\n",
    "query_customer = environment.get_template(FILE_VALIDACAO).render()\n",
    "# exibe a tabela de clientes\n",
    "validacao = pd.read_sql_query(query_customer, conn)\n",
    "validacao"
   ]
  },
  {
   "cell_type": "code",
   "execution_count": 9,
   "id": "9333aae3-1b92-4af2-aaf5-e91138c6c333",
   "metadata": {},
   "outputs": [],
   "source": [
    "# fechar conexao\n",
    "conn.close()"
   ]
  },
  {
   "cell_type": "code",
   "execution_count": 10,
   "id": "ef38073d-00f7-47ca-a313-65b9038d2b61",
   "metadata": {},
   "outputs": [
    {
     "data": {
      "text/plain": [
       "'OVD_t1 OVD_t2 OVD_sum pay_normal new_balance fea_1 fea_2 fea_3 fea_4 fea_5 fea_6 fea_7 fea_8 fea_9 fea_10 fea_11'"
      ]
     },
     "execution_count": 10,
     "metadata": {},
     "output_type": "execute_result"
    }
   ],
   "source": [
    "case2 = validacao.drop(columns=['id','label'])#.iloc[0].to_list()\n",
    "\n",
    "\" \".join(str(x) for x in case2)"
   ]
  },
  {
   "cell_type": "code",
   "execution_count": 11,
   "id": "d44601ed-7e8b-4fbe-a419-d3cd061feae6",
   "metadata": {},
   "outputs": [
    {
     "data": {
      "text/plain": [
       "array([1, 0, 0, 0, 0])"
      ]
     },
     "execution_count": 11,
     "metadata": {},
     "output_type": "execute_result"
    }
   ],
   "source": [
    "predict_model(case=case2, model=r_forest)"
   ]
  }
 ],
 "metadata": {
  "kernelspec": {
   "display_name": "Python 3 (ipykernel)",
   "language": "python",
   "name": "python3"
  },
  "language_info": {
   "codemirror_mode": {
    "name": "ipython",
    "version": 3
   },
   "file_extension": ".py",
   "mimetype": "text/x-python",
   "name": "python",
   "nbconvert_exporter": "python",
   "pygments_lexer": "ipython3",
   "version": "3.8.8"
  }
 },
 "nbformat": 4,
 "nbformat_minor": 5
}
